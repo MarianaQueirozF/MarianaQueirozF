{
  "nbformat": 4,
  "nbformat_minor": 0,
  "metadata": {
    "colab": {
      "provenance": [],
      "include_colab_link": true
    },
    "kernelspec": {
      "name": "python3",
      "display_name": "Python 3"
    },
    "language_info": {
      "name": "python"
    }
  },
  "cells": [
    {
      "cell_type": "markdown",
      "metadata": {
        "id": "view-in-github",
        "colab_type": "text"
      },
      "source": [
        "<a href=\"https://colab.research.google.com/github/MarianaQueirozF/MarianaQueirozF/blob/main/C%C3%B3pia_de_%5BCiclo_14%5D_Oficina_de_sele%C3%A7%C3%A3o.ipynb\" target=\"_parent\"><img src=\"https://colab.research.google.com/assets/colab-badge.svg\" alt=\"Open In Colab\"/></a>"
      ]
    },
    {
      "cell_type": "markdown",
      "source": [
        "# Desafio Python para Dados"
      ],
      "metadata": {
        "id": "ip_zVRJqZ3w_"
      }
    },
    {
      "cell_type": "markdown",
      "source": [
        "Este exercício tem como objetivo avaliar sua familiaridade com o uso de Python para análise de dados, incluindo leitura de arquivos CSV, inspeção inicial do dataset e criação de um gráfico simples.\n",
        "\n",
        "## 📄 Tarefa\n",
        "\n",
        "Você irá trabalhar com um conjunto de dados contendo a cotação do dólar em 2023, fornecido pelo Banco Central do Brasil."
      ],
      "metadata": {
        "id": "8TSXGAAHcYRn"
      }
    },
    {
      "cell_type": "code",
      "execution_count": null,
      "metadata": {
        "id": "3qPcJqWi5PT9"
      },
      "outputs": [],
      "source": [
        "#Importação de bibliotecas\n",
        "import pandas as pd"
      ]
    },
    {
      "cell_type": "code",
      "source": [
        "#Leitura dos dados\n",
        "df_dolar_2023 = pd.read_csv('https://raw.githubusercontent.com/programacaodinamica/dicas-pandas/refs/heads/master/dados/bcdata-dolar-2023.csv', sep=';', decimal=',')"
      ],
      "metadata": {
        "id": "tgt8Cx_B6u93"
      },
      "execution_count": null,
      "outputs": []
    },
    {
      "cell_type": "code",
      "source": [
        "#Conversão de tipo da coluna data\n",
        "df_dolar_2023['data'] = pd.to_datetime(df_dolar_2023['data'], format='%d/%m/%Y')\n",
        "df_dolar_2023.set_index('data', inplace=True)"
      ],
      "metadata": {
        "id": "FDLFBMaYb2A3"
      },
      "execution_count": null,
      "outputs": []
    },
    {
      "cell_type": "code",
      "source": [
        "#Visualize as primeiras linhas do conjunto de dados\n",
        "\n",
        "##Insira seu código aqui"
      ],
      "metadata": {
        "id": "q_nCnKvX7vyF"
      },
      "execution_count": null,
      "outputs": []
    },
    {
      "cell_type": "markdown",
      "source": [
        "Agora, escreva um breve comentário sobre o que você observa nesse recorte inicial dos dados (valores, estrutura, possíveis insights ou dúvidas)."
      ],
      "metadata": {
        "id": "0H1iNK2tczxM"
      }
    },
    {
      "cell_type": "markdown",
      "source": [
        "**Insira seu comentário aqui.**"
      ],
      "metadata": {
        "id": "q9zk28U4c3sf"
      }
    },
    {
      "cell_type": "code",
      "source": [
        "#Visualize os detalhes sobre os tipos de colunas no conjunto de dados\n",
        "\n",
        "##Insira seu código aqui"
      ],
      "metadata": {
        "id": "WlU1xzSrap4B"
      },
      "execution_count": null,
      "outputs": []
    },
    {
      "cell_type": "code",
      "source": [
        "#Implemente um gráfico da evolução mensal do dólar em 2023\n",
        "#Para um gráfico mais legível modifique o tamanho da figura\n",
        "#Opcional: Você também pode modificar a cor padrão do gráfico\n",
        "\n",
        "##Insira seu código aqui"
      ],
      "metadata": {
        "id": "GAUIIaEDazFW"
      },
      "execution_count": null,
      "outputs": []
    },
    {
      "cell_type": "markdown",
      "source": [
        "Escreva um breve comentário sobre o que você observa no gráfico (possíveis insights ou dúvidas)."
      ],
      "metadata": {
        "id": "LLw6OR_AdWml"
      }
    },
    {
      "cell_type": "markdown",
      "source": [
        "**Insira seu comentário aqui.**"
      ],
      "metadata": {
        "id": "MPS2tYw3dhWW"
      }
    },
    {
      "cell_type": "code",
      "source": [
        "#Por fim, exporte o dataframe como um arquivo .csv\n",
        "\n",
        "##Insira seu código aqui"
      ],
      "metadata": {
        "id": "rAFNeBKJbtRW"
      },
      "execution_count": null,
      "outputs": []
    },
    {
      "cell_type": "markdown",
      "source": [
        "## 📝 Instruções Finais\n",
        "- Use apenas bibliotecas padrão como pandas, matplotlib ou seaborn (opcional).\n",
        "\n",
        "- O notebook deve ser salvo com o nome seu_nome_dolar2023.ipynb.\n",
        "\n",
        "- Certifique-se de que o notebook executa corretamente de cima para baixo (use \"Restart & Run All\").\n",
        "\n",
        "- Envie o link do notebook.\n",
        "\n",
        "- No seu vídeo de apresentação do resultado:\n",
        "1. Destaque os métodos do Pandas utilizados e suas respectivas funções. Explique os usos dos parâmetros passados para os métodos utilizados.\n",
        "\n",
        "2. Conte como foi fazer o desafio e quais foram as maiores dificuldades."
      ],
      "metadata": {
        "id": "YyuK2jlydAYt"
      }
    },
    {
      "cell_type": "markdown",
      "source": [
        "## Materiais de apoio"
      ],
      "metadata": {
        "id": "ArPQIG1WbLHV"
      }
    },
    {
      "cell_type": "markdown",
      "source": [],
      "metadata": {
        "id": "3sUQDhaGdmOk"
      }
    }
  ]
}